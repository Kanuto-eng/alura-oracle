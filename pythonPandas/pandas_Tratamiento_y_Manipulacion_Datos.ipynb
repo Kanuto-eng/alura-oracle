{
  "nbformat": 4,
  "nbformat_minor": 0,
  "metadata": {
    "colab": {
      "provenance": [],
      "toc_visible": true,
      "authorship_tag": "ABX9TyOgL7GnXdSCr6cmy83XUjGa",
      "include_colab_link": true
    },
    "kernelspec": {
      "name": "python3",
      "display_name": "Python 3"
    },
    "language_info": {
      "name": "python"
    }
  },
  "cells": [
    {
      "cell_type": "markdown",
      "metadata": {
        "id": "view-in-github",
        "colab_type": "text"
      },
      "source": [
        "<a href=\"https://colab.research.google.com/github/Kanuto-eng/alura-oracle/blob/main/pythonPandas/pandas_Tratamiento_y_Manipulacion_Datos.ipynb\" target=\"_parent\"><img src=\"https://colab.research.google.com/assets/colab-badge.svg\" alt=\"Open In Colab\"/></a>"
      ]
    },
    {
      "cell_type": "markdown",
      "source": [
        "**PROBLEMA DE NEGOCIO**"
      ],
      "metadata": {
        "id": "UVv-YKHvwP_Z"
      }
    },
    {
      "cell_type": "markdown",
      "source": [
        "Se trata de un algoritmo capaz de analizar las caracteristicas de una propiedad como: comodidades, tamaño, ocupacion del espacio en un periodo determinado y sugerir al anfitrion un precio a cobrar por tarifas diarias que garantice ganancias en momentos de alta demanda."
      ],
      "metadata": {
        "id": "h6UxhaB1wbpI"
      }
    },
    {
      "cell_type": "markdown",
      "source": [],
      "metadata": {
        "id": "aqAe94oYwWiQ"
      }
    },
    {
      "cell_type": "code",
      "source": [],
      "metadata": {
        "id": "DeadT8gjwSDO"
      },
      "execution_count": null,
      "outputs": []
    },
    {
      "cell_type": "code",
      "execution_count": null,
      "metadata": {
        "id": "rGOiK67vvigj"
      },
      "outputs": [],
      "source": []
    }
  ]
}